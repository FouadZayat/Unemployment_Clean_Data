{
 "cells": [
  {
   "cell_type": "code",
   "execution_count": 10,
   "metadata": {},
   "outputs": [],
   "source": [
    "import pandas as pd\n",
    "import numpy as np"
   ]
  },
  {
   "cell_type": "code",
   "execution_count": 11,
   "metadata": {},
   "outputs": [],
   "source": [
    "male_data = pd.read_csv('Male Data.csv')\n",
    "female_data = pd.read_csv('Female Data.csv')"
   ]
  },
  {
   "cell_type": "code",
   "execution_count": 12,
   "metadata": {},
   "outputs": [],
   "source": [
    "male_data.set_index ('REF_DATE', inplace = True)\n",
    "female_data.set_index ('REF_DATE', inplace = True)"
   ]
  },
  {
   "cell_type": "code",
   "execution_count": 13,
   "metadata": {},
   "outputs": [],
   "source": [
    "male_data.drop(labels=['DGUID','UOM','UOM_ID','SCALAR_FACTOR','SCALAR_ID','VECTOR','COORDINATE','STATUS','SYMBOL','TERMINATED','DECIMALS','Age group'], axis=1, inplace=True)\n",
    "female_data.drop(labels=['DGUID','UOM','UOM_ID','SCALAR_FACTOR','SCALAR_ID','VECTOR','COORDINATE','STATUS','SYMBOL','TERMINATED','DECIMALS','Age group'], axis=1, inplace=True)"
   ]
  },
  {
   "cell_type": "code",
   "execution_count": 14,
   "metadata": {},
   "outputs": [],
   "source": [
    "male_data.rename(columns = {'GEO':'Province', 'Duration of unemployment':'Duration', 'VALUE':'Total_Unemployed'}, inplace = True)\n",
    "female_data.rename(columns = {'GEO':'Province', 'Duration of unemployment':'Duration', 'VALUE':'Total_Unemployed'}, inplace = True)"
   ]
  },
  {
   "cell_type": "code",
   "execution_count": 15,
   "metadata": {},
   "outputs": [],
   "source": [
    "male_data = male_data[male_data.Duration != '26 weeks']\n",
    "female_data = female_data[female_data.Duration != '26 weeks']"
   ]
  },
  {
   "cell_type": "code",
   "execution_count": 16,
   "metadata": {},
   "outputs": [],
   "source": [
    "male_data[\"Total_Unemployed\"].fillna(male_data.groupby(\"Province\")[\"Total_Unemployed\"].transform(\"mean\"), inplace=True)\n",
    "female_data[\"Total_Unemployed\"].fillna(female_data.groupby(\"Province\")[\"Total_Unemployed\"].transform(\"mean\"), inplace=True)"
   ]
  },
  {
   "cell_type": "code",
   "execution_count": 27,
   "metadata": {},
   "outputs": [],
   "source": [
    "male_data['Rounded_Total'] = male_data['Total_Unemployed'].round(decimals = 1)\n",
    "female_data['Rounded_Total'] = female_data['Total_Unemployed'].round(decimals = 1)"
   ]
  }
 ],
 "metadata": {
  "kernelspec": {
   "display_name": "Python 3",
   "language": "python",
   "name": "python3"
  },
  "language_info": {
   "codemirror_mode": {
    "name": "ipython",
    "version": 3
   },
   "file_extension": ".py",
   "mimetype": "text/x-python",
   "name": "python",
   "nbconvert_exporter": "python",
   "pygments_lexer": "ipython3",
   "version": "3.6.4"
  }
 },
 "nbformat": 4,
 "nbformat_minor": 2
}
